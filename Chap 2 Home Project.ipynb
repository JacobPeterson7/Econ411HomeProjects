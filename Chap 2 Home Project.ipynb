{
 "cells": [
  {
   "cell_type": "code",
   "execution_count": 1,
   "id": "8f75f7f6",
   "metadata": {},
   "outputs": [
    {
     "name": "stdout",
     "output_type": "stream",
     "text": [
      "[3, 6, 9, 12, 15, 18, 21, 24, 27, 30, 33, 36, 39, 42, 45, 48, 51, 54, 57, 60, 63, 66, 69, 72, 75, 78, 81, 84, 87, 90, 93, 96, 99, 102, 105, 108, 111, 114, 117, 120, 123, 126, 129, 132, 135, 138, 141, 144, 147, 150, 153, 156, 159, 162, 165, 168, 171, 174, 177, 180, 183, 186, 189, 192, 195, 198, 201, 204, 207, 210, 213, 216, 219, 222, 225, 228, 231, 234, 237, 240, 243, 246, 249, 252, 255, 258, 261, 264, 267, 270, 273, 276, 279, 282, 285, 288, 291, 294, 297, 300]\n"
     ]
    }
   ],
   "source": [
    "#Question 1\n",
    "generator = (3 * i for i in range(1,101))\n",
    "newList = list(generator)\n",
    "print(newList)"
   ]
  },
  {
   "cell_type": "code",
   "execution_count": 2,
   "id": "de009730",
   "metadata": {},
   "outputs": [
    {
     "data": {
      "text/plain": [
       "['3',\n",
       " '6',\n",
       " '9',\n",
       " '12',\n",
       " '15',\n",
       " '18',\n",
       " '21',\n",
       " '24',\n",
       " '27',\n",
       " '30',\n",
       " '33',\n",
       " '36',\n",
       " '39',\n",
       " '42',\n",
       " '45',\n",
       " '48',\n",
       " '51',\n",
       " '54',\n",
       " '57',\n",
       " '60',\n",
       " '63',\n",
       " '66',\n",
       " '69',\n",
       " '72',\n",
       " '75',\n",
       " '78',\n",
       " '81',\n",
       " '84',\n",
       " '87',\n",
       " '90',\n",
       " '93',\n",
       " '96',\n",
       " '99',\n",
       " '102',\n",
       " '105',\n",
       " '108',\n",
       " '111',\n",
       " '114',\n",
       " '117',\n",
       " '120',\n",
       " '123',\n",
       " '126',\n",
       " '129',\n",
       " '132',\n",
       " '135',\n",
       " '138',\n",
       " '141',\n",
       " '144',\n",
       " '147',\n",
       " '150',\n",
       " '153',\n",
       " '156',\n",
       " '159',\n",
       " '162',\n",
       " '165',\n",
       " '168',\n",
       " '171',\n",
       " '174',\n",
       " '177',\n",
       " '180',\n",
       " '183',\n",
       " '186',\n",
       " '189',\n",
       " '192',\n",
       " '195',\n",
       " '198',\n",
       " '201',\n",
       " '204',\n",
       " '207',\n",
       " '210',\n",
       " '213',\n",
       " '216',\n",
       " '219',\n",
       " '222',\n",
       " '225',\n",
       " '228',\n",
       " '231',\n",
       " '234',\n",
       " '237',\n",
       " '240',\n",
       " '243',\n",
       " '246',\n",
       " '249',\n",
       " '252',\n",
       " '255',\n",
       " '258',\n",
       " '261',\n",
       " '264',\n",
       " '267',\n",
       " '270',\n",
       " '273',\n",
       " '276',\n",
       " '279',\n",
       " '282',\n",
       " '285',\n",
       " '288',\n",
       " '291',\n",
       " '294',\n",
       " '297',\n",
       " '300']"
      ]
     },
     "execution_count": 2,
     "metadata": {},
     "output_type": "execute_result"
    }
   ],
   "source": [
    "#Question 2\n",
    "thisList = []\n",
    "for i in range(1,101):\n",
    "    thisList.append(str(3 * i))\n",
    "thisList"
   ]
  },
  {
   "cell_type": "code",
   "execution_count": 3,
   "id": "1b35a84f",
   "metadata": {},
   "outputs": [
    {
     "data": {
      "text/plain": [
       "'369121518212427303336394245485154576063666972757881848790939699102105108111114117120123126129132135138141144147150153156159162165168171174177180183186189192195198201204207210213216219222225228231234237240243246249252255258261264267270273276279282285288291294297300'"
      ]
     },
     "execution_count": 3,
     "metadata": {},
     "output_type": "execute_result"
    }
   ],
   "source": [
    "#Question 3\n",
    "thatList = ''.join(thisList)\n",
    "thatList"
   ]
  },
  {
   "cell_type": "code",
   "execution_count": 4,
   "id": "2605aa87",
   "metadata": {},
   "outputs": [
    {
     "name": "stdout",
     "output_type": "stream",
     "text": [
      "[300, 297, 294, 291, 288, 285, 282, 279, 276, 273, 270, 267, 264, 261, 258, 255, 252, 249, 246, 243, 240, 237, 234, 231, 228, 225, 222, 219, 216, 213, 210, 207, 204, 201, 198, 195, 192, 189, 186, 183, 180, 177, 174, 171, 168, 165, 162, 159, 156, 153, 150, 147, 144, 141, 138, 135, 132, 129, 126, 123, 120, 117, 114, 111, 108, 105, 102, 99, 96, 93, 90, 87, 84, 81, 78, 75, 72, 69, 66, 63, 60, 57, 54, 51, 48, 45, 42, 39, 36, 33, 30, 27, 24, 21, 18, 15, 12, 9, 6, 3]\n"
     ]
    }
   ],
   "source": [
    "#Question 4\n",
    "thisBackwards = newList[::-1]\n",
    "print(thisBackwards)\n"
   ]
  },
  {
   "cell_type": "code",
   "execution_count": 5,
   "id": "172d017b",
   "metadata": {},
   "outputs": [
    {
     "data": {
      "text/plain": [
       "[153,\n",
       " 156,\n",
       " 159,\n",
       " 162,\n",
       " 165,\n",
       " 168,\n",
       " 171,\n",
       " 174,\n",
       " 177,\n",
       " 180,\n",
       " 183,\n",
       " 186,\n",
       " 189,\n",
       " 192,\n",
       " 195,\n",
       " 198,\n",
       " 201,\n",
       " 204,\n",
       " 207,\n",
       " 210,\n",
       " 213,\n",
       " 216,\n",
       " 219,\n",
       " 222,\n",
       " 225,\n",
       " 228,\n",
       " 231,\n",
       " 234,\n",
       " 237,\n",
       " 240,\n",
       " 243,\n",
       " 246,\n",
       " 249,\n",
       " 252,\n",
       " 255,\n",
       " 258,\n",
       " 261,\n",
       " 264,\n",
       " 267,\n",
       " 270,\n",
       " 273,\n",
       " 276,\n",
       " 279,\n",
       " 282,\n",
       " 285,\n",
       " 288,\n",
       " 291,\n",
       " 294,\n",
       " 297]"
      ]
     },
     "execution_count": 5,
     "metadata": {},
     "output_type": "execute_result"
    }
   ],
   "source": [
    "#Question 5\n",
    "l = (len(newList))/2\n",
    "newList[int(l):-1]"
   ]
  },
  {
   "cell_type": "code",
   "execution_count": 6,
   "id": "2bd50883",
   "metadata": {},
   "outputs": [
    {
     "name": "stdout",
     "output_type": "stream",
     "text": [
      "392581470369258147036925814703690150111172132193153114175135196156117178138199159210271231292252213274234295255216277237298258219270\n"
     ]
    }
   ],
   "source": [
    "#Question 6\n",
    "print(thatList[::2])"
   ]
  },
  {
   "cell_type": "markdown",
   "id": "8f01e891",
   "metadata": {},
   "source": [
    "Question 7\n",
    "\n",
    "Lists and tuples are two different objects used in Python. While they share many similarities, the main difference is that tuples are immutable, and lists are mutable. Lists are able to be changed, while tuples are not."
   ]
  }
 ],
 "metadata": {
  "kernelspec": {
   "display_name": "Python 3",
   "language": "python",
   "name": "python3"
  },
  "language_info": {
   "codemirror_mode": {
    "name": "ipython",
    "version": 3
   },
   "file_extension": ".py",
   "mimetype": "text/x-python",
   "name": "python",
   "nbconvert_exporter": "python",
   "pygments_lexer": "ipython3",
   "version": "3.8.8"
  }
 },
 "nbformat": 4,
 "nbformat_minor": 5
}
